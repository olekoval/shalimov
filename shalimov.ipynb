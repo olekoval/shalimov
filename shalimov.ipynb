{
 "cells": [
  {
   "cell_type": "code",
   "execution_count": 2,
   "id": "9ad567df",
   "metadata": {},
   "outputs": [],
   "source": [
    "import pandas as pd\n",
    "import numpy as np\n",
    "import os\n",
    "\n",
    "# os.listdir(\"./processed_files\")"
   ]
  },
  {
   "cell_type": "markdown",
   "id": "6d9f9c42",
   "metadata": {},
   "source": [
    "### Обробка ЕМЗ с зауваженнями про інтервенціям"
   ]
  },
  {
   "cell_type": "code",
   "execution_count": 3,
   "id": "0e97afa3",
   "metadata": {},
   "outputs": [
    {
     "name": "stdout",
     "output_type": "stream",
     "text": [
      "кількість ЕМЗ с зауваженнями про інтервенціям - 25\n"
     ]
    }
   ],
   "source": [
    "file_name = '45233967_SI_2024_01_04_20240531.xlsx'\n",
    "edrpou = '45233967'\n",
    "sh = pd.read_excel(f'./processed_files/{file_name}')\n",
    "\n",
    "# заміна ' ' на NaN \n",
    "sh['Інтервенція не відповідає НК 026:2021'] = \\\n",
    "    sh['Інтервенція не відповідає НК 026:2021'].apply(lambda x: np.nan if x == ' ' else x)\n",
    "sh['Коментар - Інтервенції'] = \\\n",
    "    sh['Коментар - Інтервенції'].apply(lambda x: np.nan if x == ' ' else x)\n",
    "\n",
    "intervents_list = ['Інтервенція не відповідає НК 026:2021', \n",
    "                   'Коментар - Інтервенції']\n",
    "\n",
    "# відбор рядків DataFrame sh, які мають хоча б одне ненульове (ненасутнє, не NaN) значення \n",
    "# в зазначених стовпцях,визначених списком intervents_list.\n",
    "intervents_comment = \\\n",
    "    sh[sh[intervents_list].notna().any(axis=1)]\n",
    "\n",
    "print(f'кількість ЕМЗ с зауваженнями про інтервенціям - {intervents_comment.shape[0]}')\n",
    "\n",
    "intervents_comment.to_excel(f'./notna_any_files/{edrpou}_intervents.xlsx', index=False)"
   ]
  },
  {
   "cell_type": "code",
   "execution_count": 20,
   "id": "7c327988",
   "metadata": {},
   "outputs": [],
   "source": []
  },
  {
   "cell_type": "code",
   "execution_count": null,
   "id": "77716eae",
   "metadata": {},
   "outputs": [],
   "source": []
  }
 ],
 "metadata": {
  "kernelspec": {
   "display_name": "Python 3 (ipykernel)",
   "language": "python",
   "name": "python3"
  },
  "language_info": {
   "codemirror_mode": {
    "name": "ipython",
    "version": 3
   },
   "file_extension": ".py",
   "mimetype": "text/x-python",
   "name": "python",
   "nbconvert_exporter": "python",
   "pygments_lexer": "ipython3",
   "version": "3.9.13"
  }
 },
 "nbformat": 4,
 "nbformat_minor": 5
}
